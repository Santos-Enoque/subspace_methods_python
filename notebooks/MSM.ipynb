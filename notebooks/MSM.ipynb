{
 "cells": [
  {
   "cell_type": "code",
   "execution_count": 1,
   "metadata": {},
   "outputs": [],
   "source": [
    "import sys\n",
    "import os\n",
    "import h5py\n",
    "import numpy as np"
   ]
  },
  {
   "cell_type": "code",
   "execution_count": 3,
   "metadata": {},
   "outputs": [
    {
     "name": "stdout",
     "output_type": "stream",
     "text": [
      "Training data shape: (10, 100, 256)\n",
      "Training labels shape: (10,)\n",
      "Test data shape: (360, 25, 256)\n",
      "Test labels shape: (360,)\n"
     ]
    }
   ],
   "source": [
    "\n",
    "# Add the parent directory of the current directory to the search path for modules\n",
    "parent_dir = os.pardir\n",
    "sys.path.insert(0, parent_dir)\n",
    "\n",
    "file_path = \"../data/Face_data.mat\"\n",
    "\n",
    "def load_data(file_name):\n",
    "    \"\"\"Load data from a .mat file\n",
    "\n",
    "    Args:\n",
    "        file_name (str): The name of the .mat file to load\n",
    "\n",
    "    Returns:\n",
    "        train_X (ndarray): The training data\n",
    "        train_y (ndarray): The training labels\n",
    "        test_X (ndarray): The test data\n",
    "        test_y (ndarray): The test labels\n",
    "    \"\"\"\n",
    "    # Load the .mat file\n",
    "    with h5py.File(file_name, \"r\") as f:\n",
    "        # Extract the data from the file\n",
    "        train_X = np.array(f[\"X1\"])\n",
    "        train_y = np.arange(len(train_X))\n",
    "        test_X = np.array(f[\"X2\"])\n",
    "        test_X = test_X.reshape(-1, test_X.shape[-2], test_X.shape[-1])\n",
    "        test_y = np.array([[i] * 36 for i in range(10)]).flatten()\n",
    "\n",
    "    return train_X, train_y, test_X, test_y\n",
    "\n",
    "train_X, train_y, test_X, test_y = load_data(file_path)\n",
    "\n",
    "print(\"Training data shape: {}\".format(train_X.shape))\n",
    "print(\"Training labels shape: {}\".format(train_y.shape))\n",
    "print(\"Test data shape: {}\".format(test_X.shape))\n",
    "print(\"Test labels shape: {}\".format(test_y.shape))"
   ]
  },
  {
   "cell_type": "code",
   "execution_count": null,
   "metadata": {},
   "outputs": [],
   "source": []
  }
 ],
 "metadata": {
  "kernelspec": {
   "display_name": "base",
   "language": "python",
   "name": "python3"
  },
  "language_info": {
   "codemirror_mode": {
    "name": "ipython",
    "version": 3
   },
   "file_extension": ".py",
   "mimetype": "text/x-python",
   "name": "python",
   "nbconvert_exporter": "python",
   "pygments_lexer": "ipython3",
   "version": "3.11.3"
  },
  "orig_nbformat": 4
 },
 "nbformat": 4,
 "nbformat_minor": 2
}
