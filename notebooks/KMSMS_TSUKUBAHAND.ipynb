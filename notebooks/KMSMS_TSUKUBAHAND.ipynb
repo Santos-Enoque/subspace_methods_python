{
 "cells": [
  {
   "cell_type": "code",
   "execution_count": 1,
   "metadata": {},
   "outputs": [
    {
     "name": "stdout",
     "output_type": "stream",
     "text": [
      "Training data shape: (30, 33600, 576)\n",
      "Training labels shape: (30,)\n",
      "Test data shape: (1500, 168, 576)\n",
      "Test labels shape: (1500,)\n",
      "[ 0  1  2  3  4  5  6  7  8  9 10 11 12 13 14 15 16 17 18 19 20 21 22 23\n",
      " 24 25 26 27 28 29]\n"
     ]
    }
   ],
   "source": [
    "import os\n",
    "import sys\n",
    "import numpy as np\n",
    "import scipy.io\n",
    "import matplotlib.pyplot as plt\n",
    "\n",
    "parent_dir = os.pardir\n",
    "sys.path.insert(0, parent_dir)\n",
    "\n",
    "def plot_images(data):\n",
    "    fig, axes = plt.subplots(5, 6, figsize=(15, 10))\n",
    "    axes = axes.ravel()\n",
    "\n",
    "    for i in range(30):  # For each class\n",
    "        sample_image = data[i, 0, 0].reshape(24, 24)\n",
    "        axes[i].imshow(sample_image, cmap='gray')\n",
    "        axes[i].axis('off')  # Turn off the axis numbers\n",
    "        axes[i].set_title(f\"Class {i+1}\")\n",
    "\n",
    "    plt.tight_layout()\n",
    "    plt.show()\n",
    "\n",
    "\n",
    "def load_and_process_data(file_path):\n",
    "    NUMBER_OF_SETS = 50\n",
    "    \n",
    "    # Load dataset\n",
    "    data_dict = scipy.io.loadmat(file_path)\n",
    "    data = data_dict[\"data\"]\n",
    "\n",
    "    # Ensure the data shape matches the expected shape\n",
    "    assert data.shape == (24, 24, 60, 7, 30, 100)\n",
    "\n",
    "    # Flatten image dimensions and split the data\n",
    "    flattened_data = data.reshape(24*24, 60, 7, 30, 100)\n",
    "    train_data = flattened_data[:, :, :, :, :80]\n",
    "    test_data = flattened_data[:, :, :, :, 80:]\n",
    "\n",
    "    # Reorder dimensions: classes, images/camera, cameras, participants, image_data\n",
    "    train_data = train_data.transpose(3, 1, 2, 4, 0)\n",
    "    test_data = test_data.transpose(3, 1, 2, 4, 0)\n",
    "\n",
    "    # Combine samples into a single dimension\n",
    "    train_data = train_data.reshape(30, -1, 576)\n",
    "    test_data = test_data.reshape(30, NUMBER_OF_SETS, -1, 576)\n",
    "\n",
    "    train_X = train_data\n",
    "    train_y = np.arange(len(train_X))\n",
    "    test_X = test_data\n",
    "    test_X = test_X.reshape(-1, test_X.shape[-2], test_X.shape[-1])\n",
    "    test_y = np.array([[i] * NUMBER_OF_SETS for i in range(30)]).flatten()\n",
    "    \n",
    "    return train_X, train_y, test_X, test_y\n",
    "\n",
    "\n",
    "file_path = \"../data/TsukubaHandSize24x24.mat\"\n",
    "train_X, train_y, test_X, test_y = load_and_process_data(file_path)\n",
    "print(\"Training data shape: {}\".format(train_X.shape))\n",
    "print(\"Training labels shape: {}\".format(train_y.shape))\n",
    "print(\"Test data shape: {}\".format(test_X.shape))\n",
    "print(\"Test labels shape: {}\".format(test_y.shape))\n",
    "\n",
    "print(train_y)"
   ]
  },
  {
   "cell_type": "code",
   "execution_count": 2,
   "metadata": {},
   "outputs": [
    {
     "data": {
      "text/plain": [
       "(torch.Size([30, 33600, 576]), torch.Size([1500, 168, 576]))"
      ]
     },
     "execution_count": 2,
     "metadata": {},
     "output_type": "execute_result"
    }
   ],
   "source": [
    "import torch\n",
    "import torch.nn.functional as F\n",
    "\n",
    "x_train = torch.from_numpy(train_X).cuda().half()\n",
    "x_test = torch.from_numpy(test_X).cuda().half()\n",
    "\n",
    "x_train.shape, x_test.shape"
   ]
  },
  {
   "cell_type": "code",
   "execution_count": 3,
   "metadata": {},
   "outputs": [
    {
     "data": {
      "text/plain": [
       "torch.Size([30, 576, 32])"
      ]
     },
     "execution_count": 3,
     "metadata": {},
     "output_type": "execute_result"
    }
   ],
   "source": [
    "def base(x, batch_size=512, num_dimensions=32, p=2):\n",
    "    x = F.normalize(x, dim=-1, p=p)\n",
    "\n",
    "    corr_matrix = torch.zeros(x.size(0), x.size(-1), x.size(-1), device=x.device, dtype=x.dtype)\n",
    "    for batch in x.split(batch_size, dim=1):\n",
    "        b = batch.unsqueeze(-1)\n",
    "        corr_matrix += b.matmul(b.mT).sum(dim=1)\n",
    "\n",
    "    try:\n",
    "        _, V = torch.linalg.eigh(corr_matrix.float())\n",
    "    except:\n",
    "        V = torch.linalg.svd(corr_matrix.float()).Vh.adjoint()\n",
    "    \n",
    "    return V.flip(-1)[..., :num_dimensions]\n",
    "\n",
    "bases_train = base(x_train)\n",
    "\n",
    "bases_train.shape"
   ]
  },
  {
   "cell_type": "code",
   "execution_count": 4,
   "metadata": {},
   "outputs": [
    {
     "data": {
      "text/plain": [
       "torch.Size([1500, 576, 32])"
      ]
     },
     "execution_count": 4,
     "metadata": {},
     "output_type": "execute_result"
    }
   ],
   "source": [
    "bases_test = base(x_test, batch_size=8)\n",
    "\n",
    "bases_test.shape"
   ]
  },
  {
   "cell_type": "code",
   "execution_count": 27,
   "metadata": {},
   "outputs": [
    {
     "data": {
      "text/plain": [
       "torch.Size([50, 30, 32])"
      ]
     },
     "execution_count": 27,
     "metadata": {},
     "output_type": "execute_result"
    }
   ],
   "source": [
    "b_test = bases_test.reshape(30, 50, 576, -1).transpose(0, 1)\n",
    "msm = bases_train.mT.matmul(b_test)\n",
    "torch.linalg.svdvals(msm).square().mean(dim=-1).argmax(dim=-1)"
   ]
  },
  {
   "cell_type": "markdown",
   "metadata": {},
   "source": [
    "### Trainig"
   ]
  },
  {
   "cell_type": "code",
   "execution_count": null,
   "metadata": {},
   "outputs": [],
   "source": [
    "# Set the amount of random noise to add to the data\n",
    "noise_scale = 5e-1\n",
    "\n",
    "# Initialize a random number generator with a fixed seed\n",
    "rng = np.random.RandomState(seed=100)\n",
    "\n",
    "# Add random noise to the training data\n",
    "train_X = [_X + noise_scale * rng.randn(*_X[0].shape) for _X in train_X]\n",
    "\n",
    "# Add random noise to the test data\n",
    "test_X = [_X + noise_scale * rng.randn(*_X[0].shape) for _X in test_X]"
   ]
  },
  {
   "cell_type": "code",
   "execution_count": null,
   "metadata": {},
   "outputs": [
    {
     "name": "stderr",
     "output_type": "stream",
     "text": [
      "  0%|          | 0/30 [00:00<?, ?it/s]"
     ]
    }
   ],
   "source": [
    "from src.models import KernelMSM\n",
    "\n",
    "model = KernelMSM(n_subdims=50, sigma=100, faster_mode=False)\n",
    "model.fit(train_X, train_y)"
   ]
  },
  {
   "cell_type": "markdown",
   "metadata": {},
   "source": [
    "### Evaluation"
   ]
  },
  {
   "cell_type": "code",
   "execution_count": null,
   "metadata": {},
   "outputs": [],
   "source": [
    "# pred = model.predict(test_X)\n",
    "# print(f\"pred: {pred}\\ntrue: {test_y}\\naccuracy: {(pred == test_y).mean()}\")"
   ]
  }
 ],
 "metadata": {
  "kernelspec": {
   "display_name": "base",
   "language": "python",
   "name": "python3"
  },
  "language_info": {
   "codemirror_mode": {
    "name": "ipython",
    "version": 3
   },
   "file_extension": ".py",
   "mimetype": "text/x-python",
   "name": "python",
   "nbconvert_exporter": "python",
   "pygments_lexer": "ipython3",
   "version": "3.9.7"
  },
  "orig_nbformat": 4
 },
 "nbformat": 4,
 "nbformat_minor": 2
}
