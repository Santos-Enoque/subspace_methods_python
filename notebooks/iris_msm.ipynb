{
 "cells": [
  {
   "cell_type": "code",
   "execution_count": 73,
   "metadata": {},
   "outputs": [
    {
     "name": "stdout",
     "output_type": "stream",
     "text": [
      "X_train shape: (120, 4)\n",
      "y_train shape: (120,)\n",
      "X_test shape: (30, 4)\n",
      "y_test shape: (30,)\n",
      "X_train_grouped shape: torch.Size([3, 40, 4])\n",
      "X_test_grouped shape: torch.Size([3, 2, 5, 4])\n",
      "Training data shape: (3, 40, 4)\n",
      "Training labels shape: (3,)\n",
      "Test data shape: (6, 5, 4)\n",
      "Test labels shape: (6,)\n"
     ]
    },
    {
     "name": "stderr",
     "output_type": "stream",
     "text": [
      "100%|██████████| 3/3 [00:00<00:00, 4166.53it/s]"
     ]
    },
    {
     "name": "stdout",
     "output_type": "stream",
     "text": [
      "pred: [0 0 1 1 2 2]\n",
      "true: [0 0 1 1 2 2]\n",
      "accuracy: 1.0\n"
     ]
    },
    {
     "name": "stderr",
     "output_type": "stream",
     "text": [
      "\n"
     ]
    }
   ],
   "source": [
    "import os\n",
    "import sys\n",
    "import numpy as np\n",
    "import scipy.io\n",
    "import matplotlib.pyplot as plt\n",
    "\n",
    "parent_dir = os.pardir\n",
    "sys.path.insert(0, parent_dir)\n",
    "\n",
    "from sklearn.datasets import load_iris\n",
    "iris_data = load_iris()\n",
    "X, y = iris_data.data, iris_data.target\n",
    "\n",
    "from sklearn.model_selection import train_test_split\n",
    "\n",
    "# Split the dataset into 80% training and 20% testing\n",
    "X_train, X_test, y_train, y_test = train_test_split(X, y, test_size=0.2, random_state=42, stratify=y)\n",
    "\n",
    "# Print the shapes to confirm the sizes\n",
    "print(f\"X_train shape: {X_train.shape}\")\n",
    "print(f\"y_train shape: {y_train.shape}\")\n",
    "print(f\"X_test shape: {X_test.shape}\")\n",
    "print(f\"y_test shape: {y_test.shape}\")\n",
    "# convert to torch tensors\n",
    "import torch\n",
    "X_train = torch.from_numpy(X_train).float()\n",
    "y_train = torch.squeeze(torch.from_numpy(y_train).long())\n",
    "X_test = torch.from_numpy(X_test).float()\n",
    "y_test = torch.squeeze(torch.from_numpy(y_test).long())\n",
    "\n",
    "import numpy as np\n",
    "# goup the train data in a tensor of the shape (n_classes, n_samples, n_features)\n",
    "n_of_classes = len(torch.unique(y_train))\n",
    "n_of_sets = 2\n",
    "X_train_grouped = torch.stack([X_train[y_train == i] for i in range(n_of_classes)])\n",
    "X_test_grouped = torch.stack([X_test[y_test == i] for i in range(n_of_classes)])\n",
    "X_test_grouped = X_test_grouped.reshape(3, 2, -1, 4)\n",
    "print(f\"X_train_grouped shape: {X_train_grouped.shape}\")\n",
    "print(f\"X_test_grouped shape: {X_test_grouped.shape}\")\n",
    "\n",
    "# convert tensors to numpy arrays\n",
    "train_X = X_train_grouped.numpy()\n",
    "train_y = np.arange(len(train_X))\n",
    "test_X = X_test_grouped.numpy()\n",
    "test_X = test_X.reshape(-1, test_X.shape[-2], test_X.shape[-1])\n",
    "test_y = np.array([[i] * n_of_sets for i in range(n_of_classes)]).flatten()\n",
    "\n",
    "print(\"Training data shape: {}\".format(train_X.shape))\n",
    "print(\"Training labels shape: {}\".format(train_y.shape))\n",
    "print(\"Test data shape: {}\".format(test_X.shape))\n",
    "print(\"Test labels shape: {}\".format(test_y.shape))\n",
    "\n",
    "from src.models import KernelMSM, MutualSubspaceMethod\n",
    "from sklearn.model_selection import RandomizedSearchCV\n",
    "from scipy.stats import randint as sp_randint\n",
    "# model = MutualSubspaceMethod(normalize=True, n_subdims=4, faster_mode=True)\n",
    "model = KernelMSM(n_subdims=5, sigma=0.1, normalize=True, faster_mode=True)\n",
    "model.fit(train_X, train_y)\n",
    "pred = model.predict(test_X)\n",
    "print(f\"pred: {pred}\\ntrue: {test_y}\\naccuracy: {(pred == test_y).mean()}\")"
   ]
  }
 ],
 "metadata": {
  "kernelspec": {
   "display_name": "base",
   "language": "python",
   "name": "python3"
  },
  "language_info": {
   "codemirror_mode": {
    "name": "ipython",
    "version": 3
   },
   "file_extension": ".py",
   "mimetype": "text/x-python",
   "name": "python",
   "nbconvert_exporter": "python",
   "pygments_lexer": "ipython3",
   "version": "3.9.13"
  },
  "orig_nbformat": 4
 },
 "nbformat": 4,
 "nbformat_minor": 2
}
